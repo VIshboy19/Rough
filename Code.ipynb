{
 "cells": [
  {
   "cell_type": "code",
   "execution_count": 1,
   "id": "84461d36-b81d-40eb-97c0-22173592a928",
   "metadata": {},
   "outputs": [],
   "source": [
    "import os\n",
    "import mujoco\n",
    "import numpy\n",
    "import mediapy as media\n",
    "import matplotlib.pyplot as plt"
   ]
  },
  {
   "cell_type": "code",
   "execution_count": 2,
   "id": "4dc5e49f-8147-403c-8e7d-db13e31b330b",
   "metadata": {},
   "outputs": [
    {
     "data": {
      "text/plain": [
       "(3001,)"
      ]
     },
     "execution_count": 2,
     "metadata": {},
     "output_type": "execute_result"
    }
   ],
   "source": [
    "def Pen(e, f):\n",
    "    xml_tem = \"\"\"\n",
    "    <mujoco>\n",
    "    <option timestep = \"0.001\" />\n",
    "    <worldbody>\n",
    "    <light name=\"top\" pos=\"0 0 1\"/>\n",
    "    <body name=\"A\" pos=\"0 0 0\">\n",
    "    <joint name=\"j1\" type=\"hinge\" axis=\"0 1 0\" pos=\"0 0 0\" stiffness=\"{k}\" damping=\"{b}\" />\n",
    "    <geom type=\"box\" size=\".5 .05 .05\" pos=\".5 0 0\" rgba=\"1 0 0 1\" mass=\"1\"/>\n",
    "    <body name=\"B\" pos=\"1 0 0\">\n",
    "    <joint name=\"j2\" type=\"hinge\" axis=\"0 1 0\" pos=\"0 0 0\" stiffness=\"{k}\" damping=\"{b}\"/>\n",
    "    <geom type=\"box\" size=\".5 .05 .05\" pos=\".5 0 0\" rgba=\"1 0 0 1\" mass=\"1\"/>\n",
    "    </body>\n",
    "    </body>\n",
    "    </worldbody>\n",
    "    </mujoco>\n",
    "    \"\"\"\n",
    "    xml = xml_tem.format(k=e, b=f)\n",
    "    \n",
    "    model = mujoco.MjModel.from_xml_string(xml)\n",
    "    data = mujoco.MjData(model)\n",
    "    t=[]\n",
    "    q=[]\n",
    "    w=[]\n",
    "    x=[]\n",
    "    duration = 3 \n",
    "\n",
    "    while data.time < duration:\n",
    "        mujoco.mj_step(model, data)\n",
    "        t.append(data.time)\n",
    "        q.append(data.qpos.copy())\n",
    "        w.append(data.qvel.copy())\n",
    "        x.append(data.xpos.copy())\n",
    "    return(t,q)\n",
    "\n",
    "\n",
    "\n",
    "f=Pen(10, 1)\n",
    "\n",
    "time=numpy.array(f[0])\n",
    "poss=numpy.array(f[1])\n",
    "\n"
   ]
  },
  {
   "cell_type": "code",
   "execution_count": null,
   "id": "e31a31d3-4bd3-4068-a38f-f1a04a684c2d",
   "metadata": {},
   "outputs": [],
   "source": []
  },
  {
   "cell_type": "code",
   "execution_count": null,
   "id": "0649452d-4d32-497c-b1ab-f9df6ad11cf1",
   "metadata": {},
   "outputs": [],
   "source": []
  },
  {
   "cell_type": "code",
   "execution_count": null,
   "id": "eb7fc667-bbfe-4d35-93d5-a2537e840824",
   "metadata": {},
   "outputs": [],
   "source": []
  }
 ],
 "metadata": {
  "kernelspec": {
   "display_name": "Python 3 (ipykernel)",
   "language": "python",
   "name": "python3"
  },
  "language_info": {
   "codemirror_mode": {
    "name": "ipython",
    "version": 3
   },
   "file_extension": ".py",
   "mimetype": "text/x-python",
   "name": "python",
   "nbconvert_exporter": "python",
   "pygments_lexer": "ipython3",
   "version": "3.12.3"
  }
 },
 "nbformat": 4,
 "nbformat_minor": 5
}
